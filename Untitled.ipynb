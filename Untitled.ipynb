{
 "cells": [
  {
   "cell_type": "code",
   "execution_count": 1,
   "metadata": {
    "collapsed": true
   },
   "outputs": [],
   "source": [
    "import boto3"
   ]
  },
  {
   "cell_type": "code",
   "execution_count": 12,
   "metadata": {
    "collapsed": false
   },
   "outputs": [],
   "source": [
    "session = boto3.Session(profile_name='wmorgan85')"
   ]
  },
  {
   "cell_type": "code",
   "execution_count": 8,
   "metadata": {
    "collapsed": true
   },
   "outputs": [],
   "source": [
    "filename = \"requirements.txt\"\n",
    "bucketname = \"wmorgan85-iot-dashboard\"\n",
    "keyname = \"requirements.txt\""
   ]
  },
  {
   "cell_type": "code",
   "execution_count": 10,
   "metadata": {
    "collapsed": false
   },
   "outputs": [],
   "source": [
    "response = client.upload_file(filename, bucketname, keyname)"
   ]
  },
  {
   "cell_type": "code",
   "execution_count": 11,
   "metadata": {
    "collapsed": false
   },
   "outputs": [
    {
     "name": "stdout",
     "output_type": "stream",
     "text": [
      "None\n"
     ]
    }
   ],
   "source": [
    "print(response)"
   ]
  },
  {
   "cell_type": "code",
   "execution_count": 13,
   "metadata": {
    "collapsed": true
   },
   "outputs": [],
   "source": [
    "s3_resource = session.resource('s3')"
   ]
  },
  {
   "cell_type": "code",
   "execution_count": 21,
   "metadata": {
    "collapsed": false
   },
   "outputs": [
    {
     "name": "stdout",
     "output_type": "stream",
     "text": [
      "s3.Bucket(name='wmorgan85-iot-dashboard')\n"
     ]
    }
   ],
   "source": [
    "for bucket in s3_resource.buckets.all():\n",
    "    print(bucket)"
   ]
  },
  {
   "cell_type": "code",
   "execution_count": 22,
   "metadata": {
    "collapsed": true
   },
   "outputs": [],
   "source": [
    "iot_dash = s3_resource.Bucket(name=bucketname)"
   ]
  },
  {
   "cell_type": "code",
   "execution_count": 36,
   "metadata": {
    "collapsed": false
   },
   "outputs": [
    {
     "name": "stdout",
     "output_type": "stream",
     "text": [
      "README\n",
      "index.html\n",
      "moviedata.json\n",
      "refresh.js\n"
     ]
    }
   ],
   "source": [
    "for obj in iot_dash.objects.all():\n",
    "    print(obj.key)"
   ]
  },
  {
   "cell_type": "code",
   "execution_count": 30,
   "metadata": {
    "collapsed": false
   },
   "outputs": [],
   "source": [
    "first_bucket = s3_resource.Bucket(name=bucketname)\n",
    "first_object = s3_resource.Object(bucket_name=bucketname, key=filename)"
   ]
  },
  {
   "cell_type": "code",
   "execution_count": 31,
   "metadata": {
    "collapsed": false
   },
   "outputs": [
    {
     "data": {
      "text/plain": [
       "s3.Bucket(name='wmorgan85-iot-dashboard')"
      ]
     },
     "execution_count": 31,
     "metadata": {},
     "output_type": "execute_result"
    }
   ],
   "source": [
    "first_bucket"
   ]
  },
  {
   "cell_type": "code",
   "execution_count": 35,
   "metadata": {
    "collapsed": false
   },
   "outputs": [
    {
     "data": {
      "text/plain": [
       "s3.Object(bucket_name='wmorgan85-iot-dashboard', key='requirements.txt')"
      ]
     },
     "execution_count": 35,
     "metadata": {},
     "output_type": "execute_result"
    }
   ],
   "source": [
    "first_object"
   ]
  },
  {
   "cell_type": "code",
   "execution_count": 34,
   "metadata": {
    "collapsed": false
   },
   "outputs": [
    {
     "data": {
      "text/plain": [
       "{'ResponseMetadata': {'HTTPHeaders': {'date': 'Wed, 29 May 2019 09:17:00 GMT',\n",
       "   'server': 'AmazonS3',\n",
       "   'x-amz-id-2': 'ibmQ/5YmalJvz0DhWcN75l2Fgi5q9uC2w+IUMRvn/CyuCTQtFqzbKeaFlMgJwx/W2ZwgMRQV++g=',\n",
       "   'x-amz-request-id': 'CA0E553E8C20ECE8'},\n",
       "  'HTTPStatusCode': 204,\n",
       "  'HostId': 'ibmQ/5YmalJvz0DhWcN75l2Fgi5q9uC2w+IUMRvn/CyuCTQtFqzbKeaFlMgJwx/W2ZwgMRQV++g=',\n",
       "  'RequestId': 'CA0E553E8C20ECE8',\n",
       "  'RetryAttempts': 0}}"
      ]
     },
     "execution_count": 34,
     "metadata": {},
     "output_type": "execute_result"
    }
   ],
   "source": [
    "first_object.delete()"
   ]
  },
  {
   "cell_type": "code",
   "execution_count": 65,
   "metadata": {
    "collapsed": true
   },
   "outputs": [],
   "source": [
    "s3_resource.Object(bucketname, filename).upload_file(filename)"
   ]
  },
  {
   "cell_type": "code",
   "execution_count": null,
   "metadata": {
    "collapsed": true
   },
   "outputs": [],
   "source": [
    "s3_resource.Object(bucketname, filename)"
   ]
  },
  {
   "cell_type": "code",
   "execution_count": 39,
   "metadata": {
    "collapsed": false
   },
   "outputs": [
    {
     "name": "stdout",
     "output_type": "stream",
     "text": [
      "s3.ObjectVersion(bucket_name='wmorgan85-iot-dashboard', object_key='README', id='null')\n",
      "s3.ObjectVersion(bucket_name='wmorgan85-iot-dashboard', object_key='index.html', id='null')\n",
      "s3.ObjectVersion(bucket_name='wmorgan85-iot-dashboard', object_key='moviedata.json', id='null')\n",
      "s3.ObjectVersion(bucket_name='wmorgan85-iot-dashboard', object_key='refresh.js', id='null')\n",
      "s3.ObjectVersion(bucket_name='wmorgan85-iot-dashboard', object_key='requirements.txt', id='null')\n"
     ]
    }
   ],
   "source": [
    "for item in first_bucket.object_versions.all():\n",
    "    print(item)"
   ]
  },
  {
   "cell_type": "code",
   "execution_count": 43,
   "metadata": {
    "collapsed": true
   },
   "outputs": [],
   "source": [
    "objdict = {\n",
    "    \"Objects\": [\n",
    "        {\n",
    "            \"Key\": \"requirements.txt\",\n",
    "            \"VersionId\": \"null\"\n",
    "        },\n",
    "    ]\n",
    "}"
   ]
  },
  {
   "cell_type": "code",
   "execution_count": 45,
   "metadata": {
    "collapsed": false
   },
   "outputs": [
    {
     "data": {
      "text/plain": [
       "{'Deleted': [{'Key': 'requirements.txt', 'VersionId': 'null'}],\n",
       " 'ResponseMetadata': {'HTTPHeaders': {'connection': 'close',\n",
       "   'content-type': 'application/xml',\n",
       "   'date': 'Wed, 29 May 2019 09:26:59 GMT',\n",
       "   'server': 'AmazonS3',\n",
       "   'transfer-encoding': 'chunked',\n",
       "   'x-amz-id-2': '/BuJoBaqpuvp8AGhKx2COrues0nRcYAgUqSmLEhrxxSFLBTKzY7iX5WLvR7aAnDvBEvyHWHYRNs=',\n",
       "   'x-amz-request-id': '3B25141FEAC81220'},\n",
       "  'HTTPStatusCode': 200,\n",
       "  'HostId': '/BuJoBaqpuvp8AGhKx2COrues0nRcYAgUqSmLEhrxxSFLBTKzY7iX5WLvR7aAnDvBEvyHWHYRNs=',\n",
       "  'RequestId': '3B25141FEAC81220',\n",
       "  'RetryAttempts': 0}}"
      ]
     },
     "execution_count": 45,
     "metadata": {},
     "output_type": "execute_result"
    }
   ],
   "source": [
    "first_bucket.delete_objects(Delete=objdict)"
   ]
  },
  {
   "cell_type": "code",
   "execution_count": 46,
   "metadata": {
    "collapsed": false
   },
   "outputs": [
    {
     "data": {
      "text/plain": [
       "{'Deleted': [{'Key': 'requirements.txt', 'VersionId': 'null'}],\n",
       " 'ResponseMetadata': {'HTTPHeaders': {'connection': 'close',\n",
       "   'content-type': 'application/xml',\n",
       "   'date': 'Wed, 29 May 2019 09:27:20 GMT',\n",
       "   'server': 'AmazonS3',\n",
       "   'transfer-encoding': 'chunked',\n",
       "   'x-amz-id-2': 'GbW6HFrrEywJ9xBt6WAAslScvLJ6dPTCecqTGLJBpnl690vfblh7Rag1yA0AaTmXXAtZf6ekECc=',\n",
       "   'x-amz-request-id': 'CFE7884194FC6BC8'},\n",
       "  'HTTPStatusCode': 200,\n",
       "  'HostId': 'GbW6HFrrEywJ9xBt6WAAslScvLJ6dPTCecqTGLJBpnl690vfblh7Rag1yA0AaTmXXAtZf6ekECc=',\n",
       "  'RequestId': 'CFE7884194FC6BC8',\n",
       "  'RetryAttempts': 0}}"
      ]
     },
     "execution_count": 46,
     "metadata": {},
     "output_type": "execute_result"
    }
   ],
   "source": [
    "first_bucket.delete_objects(Delete=objdict)"
   ]
  },
  {
   "cell_type": "code",
   "execution_count": 47,
   "metadata": {
    "collapsed": true
   },
   "outputs": [],
   "source": [
    "s3_client = session.client('s3')"
   ]
  },
  {
   "cell_type": "code",
   "execution_count": null,
   "metadata": {
    "collapsed": true
   },
   "outputs": [],
   "source": [
    "s3_client.delete_object()"
   ]
  },
  {
   "cell_type": "code",
   "execution_count": 51,
   "metadata": {
    "collapsed": false
   },
   "outputs": [],
   "source": [
    "response = s3_client.delete_objects(Bucket=bucketname, Delete=objdict)"
   ]
  },
  {
   "cell_type": "code",
   "execution_count": 59,
   "metadata": {
    "collapsed": false
   },
   "outputs": [],
   "source": [
    "is_deleted = response['Deleted']"
   ]
  },
  {
   "cell_type": "code",
   "execution_count": 60,
   "metadata": {
    "collapsed": false
   },
   "outputs": [
    {
     "data": {
      "text/plain": [
       "[{'Key': 'requirements.txt', 'VersionId': 'null'}]"
      ]
     },
     "execution_count": 60,
     "metadata": {},
     "output_type": "execute_result"
    }
   ],
   "source": [
    "is_deleted"
   ]
  },
  {
   "cell_type": "code",
   "execution_count": 56,
   "metadata": {
    "collapsed": false
   },
   "outputs": [
    {
     "data": {
      "text/plain": [
       "True"
      ]
     },
     "execution_count": 56,
     "metadata": {},
     "output_type": "execute_result"
    }
   ],
   "source": [
    "is_deleted is not None"
   ]
  },
  {
   "cell_type": "code",
   "execution_count": 63,
   "metadata": {
    "collapsed": true
   },
   "outputs": [],
   "source": [
    "def download_file(objectname, filename, bucket):\n",
    "    with open(filename, 'wb') as f:\n",
    "        s3_client.download_fileobj(bucket, objectname, f)\n",
    "    return f"
   ]
  },
  {
   "cell_type": "code",
   "execution_count": 69,
   "metadata": {
    "collapsed": false
   },
   "outputs": [
    {
     "data": {
      "text/plain": [
       "<_io.BufferedWriter name='requirements.txt.new'>"
      ]
     },
     "execution_count": 69,
     "metadata": {},
     "output_type": "execute_result"
    }
   ],
   "source": [
    "download_file(filename, filename+\".new\", bucketname)"
   ]
  },
  {
   "cell_type": "code",
   "execution_count": 70,
   "metadata": {
    "collapsed": false
   },
   "outputs": [
    {
     "name": "stdout",
     "output_type": "stream",
     "text": [
      "README                     progress.py\r\n",
      "Untitled.ipynb             requirements.txt\r\n",
      "__init__.py                requirements.txt.new\r\n",
      "\u001b[1m\u001b[36m__pycache__\u001b[m\u001b[m/               secrets.py\r\n",
      "app.py                     \u001b[1m\u001b[36mtests\u001b[m\u001b[m/\r\n",
      "aws_upload.code-workspace  \u001b[1m\u001b[36mupload\u001b[m\u001b[m/\r\n",
      "moviedata.json             wmorgan85-iot-dashboard\r\n",
      "new_sample_file.txt\r\n"
     ]
    }
   ],
   "source": [
    "%ls"
   ]
  },
  {
   "cell_type": "code",
   "execution_count": 71,
   "metadata": {
    "collapsed": true
   },
   "outputs": [],
   "source": [
    "import filecmp"
   ]
  },
  {
   "cell_type": "code",
   "execution_count": 72,
   "metadata": {
    "collapsed": false
   },
   "outputs": [
    {
     "data": {
      "text/plain": [
       "True"
      ]
     },
     "execution_count": 72,
     "metadata": {},
     "output_type": "execute_result"
    }
   ],
   "source": [
    "filecmp.cmp(filename, filename+\".new\")"
   ]
  },
  {
   "cell_type": "code",
   "execution_count": 73,
   "metadata": {
    "collapsed": false
   },
   "outputs": [
    {
     "data": {
      "text/plain": [
       "boto3.session.Session"
      ]
     },
     "execution_count": 73,
     "metadata": {},
     "output_type": "execute_result"
    }
   ],
   "source": [
    "type(session)"
   ]
  },
  {
   "cell_type": "code",
   "execution_count": 74,
   "metadata": {
    "collapsed": false
   },
   "outputs": [
    {
     "data": {
      "text/plain": [
       "botocore.client.S3"
      ]
     },
     "execution_count": 74,
     "metadata": {},
     "output_type": "execute_result"
    }
   ],
   "source": [
    "type(s3_client)"
   ]
  },
  {
   "cell_type": "code",
   "execution_count": 79,
   "metadata": {
    "collapsed": false
   },
   "outputs": [],
   "source": [
    "from botocore import client"
   ]
  },
  {
   "cell_type": "code",
   "execution_count": 85,
   "metadata": {
    "collapsed": false
   },
   "outputs": [
    {
     "ename": "TypeError",
     "evalue": "isinstance() arg 2 must be a type or tuple of types",
     "output_type": "error",
     "traceback": [
      "\u001b[0;31m---------------------------------------------------------------------------\u001b[0m",
      "\u001b[0;31mTypeError\u001b[0m                                 Traceback (most recent call last)",
      "\u001b[0;32m<ipython-input-85-8545c6a74322>\u001b[0m in \u001b[0;36m<module>\u001b[0;34m()\u001b[0m\n\u001b[0;32m----> 1\u001b[0;31m \u001b[0misinstance\u001b[0m\u001b[0;34m(\u001b[0m\u001b[0ms3_client\u001b[0m\u001b[0;34m,\u001b[0m \u001b[0mclient\u001b[0m\u001b[0;34m)\u001b[0m\u001b[0;34m\u001b[0m\u001b[0;34m\u001b[0m\u001b[0m\n\u001b[0m",
      "\u001b[0;31mTypeError\u001b[0m: isinstance() arg 2 must be a type or tuple of types"
     ]
    }
   ],
   "source": [
    "isinstance(s3_client, client.ClientMeta.)"
   ]
  },
  {
   "cell_type": "code",
   "execution_count": null,
   "metadata": {
    "collapsed": true
   },
   "outputs": [],
   "source": [
    "def delete_all_objects(bucket_name):\n",
    "    res = []\n",
    "    bucket=s3_resource.Bucket(bucket_name)\n",
    "    for obj_version in bucket.object_versions.all():\n",
    "        res.append({'Key': obj_version.object_key,\n",
    "                    'VersionId': obj_version.id})\n",
    "    print(res)\n",
    "    bucket.delete_objects(Delete={'Objects': res})\n"
   ]
  }
 ],
 "metadata": {
  "kernelspec": {
   "display_name": "Python 3",
   "language": "python",
   "name": "python3"
  },
  "language_info": {
   "codemirror_mode": {
    "name": "ipython",
    "version": 3
   },
   "file_extension": ".py",
   "mimetype": "text/x-python",
   "name": "python",
   "nbconvert_exporter": "python",
   "pygments_lexer": "ipython3",
   "version": "3.6.8"
  }
 },
 "nbformat": 4,
 "nbformat_minor": 2
}
