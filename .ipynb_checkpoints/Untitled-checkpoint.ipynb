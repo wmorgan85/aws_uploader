{
 "cells": [
  {
   "cell_type": "code",
   "execution_count": 1,
   "metadata": {
    "collapsed": true
   },
   "outputs": [],
   "source": [
    "import boto3"
   ]
  },
  {
   "cell_type": "code",
   "execution_count": 12,
   "metadata": {
    "collapsed": false
   },
   "outputs": [],
   "source": [
    "session = boto3.Session(profile_name='wmorgan85')"
   ]
  },
  {
   "cell_type": "code",
   "execution_count": 8,
   "metadata": {
    "collapsed": true
   },
   "outputs": [],
   "source": [
    "filename = \"requirements.txt\"\n",
    "bucketname = \"wmorgan85-iot-dashboard\"\n",
    "keyname = \"requirements.txt\""
   ]
  },
  {
   "cell_type": "code",
   "execution_count": 10,
   "metadata": {
    "collapsed": false
   },
   "outputs": [],
   "source": [
    "response = client.upload_file(filename, bucketname, keyname)"
   ]
  },
  {
   "cell_type": "code",
   "execution_count": 11,
   "metadata": {
    "collapsed": false
   },
   "outputs": [
    {
     "name": "stdout",
     "output_type": "stream",
     "text": [
      "None\n"
     ]
    }
   ],
   "source": [
    "print(response)"
   ]
  },
  {
   "cell_type": "code",
   "execution_count": 13,
   "metadata": {
    "collapsed": true
   },
   "outputs": [],
   "source": [
    "s3_resource = session.resource('s3')"
   ]
  },
  {
   "cell_type": "code",
   "execution_count": 21,
   "metadata": {
    "collapsed": false
   },
   "outputs": [
    {
     "name": "stdout",
     "output_type": "stream",
     "text": [
      "s3.Bucket(name='wmorgan85-iot-dashboard')\n"
     ]
    }
   ],
   "source": [
    "for bucket in s3_resource.buckets.all():\n",
    "    print(bucket)"
   ]
  },
  {
   "cell_type": "code",
   "execution_count": 22,
   "metadata": {
    "collapsed": true
   },
   "outputs": [],
   "source": [
    "iot_dash = s3_resource.Bucket(name=bucketname)"
   ]
  },
  {
   "cell_type": "code",
   "execution_count": 36,
   "metadata": {
    "collapsed": false
   },
   "outputs": [
    {
     "name": "stdout",
     "output_type": "stream",
     "text": [
      "README\n",
      "index.html\n",
      "moviedata.json\n",
      "refresh.js\n"
     ]
    }
   ],
   "source": [
    "for obj in iot_dash.objects.all():\n",
    "    print(obj.key)"
   ]
  },
  {
   "cell_type": "code",
   "execution_count": 30,
   "metadata": {
    "collapsed": false
   },
   "outputs": [],
   "source": [
    "first_bucket = s3_resource.Bucket(name=bucketname)\n",
    "first_object = s3_resource.Object(bucket_name=bucketname, key=filename)"
   ]
  },
  {
   "cell_type": "code",
   "execution_count": 31,
   "metadata": {
    "collapsed": false
   },
   "outputs": [
    {
     "data": {
      "text/plain": [
       "s3.Bucket(name='wmorgan85-iot-dashboard')"
      ]
     },
     "execution_count": 31,
     "metadata": {},
     "output_type": "execute_result"
    }
   ],
   "source": [
    "first_bucket"
   ]
  },
  {
   "cell_type": "code",
   "execution_count": 35,
   "metadata": {
    "collapsed": false
   },
   "outputs": [
    {
     "data": {
      "text/plain": [
       "s3.Object(bucket_name='wmorgan85-iot-dashboard', key='requirements.txt')"
      ]
     },
     "execution_count": 35,
     "metadata": {},
     "output_type": "execute_result"
    }
   ],
   "source": [
    "first_object"
   ]
  },
  {
   "cell_type": "code",
   "execution_count": 34,
   "metadata": {
    "collapsed": false
   },
   "outputs": [
    {
     "data": {
      "text/plain": [
       "{'ResponseMetadata': {'HTTPHeaders': {'date': 'Wed, 29 May 2019 09:17:00 GMT',\n",
       "   'server': 'AmazonS3',\n",
       "   'x-amz-id-2': 'ibmQ/5YmalJvz0DhWcN75l2Fgi5q9uC2w+IUMRvn/CyuCTQtFqzbKeaFlMgJwx/W2ZwgMRQV++g=',\n",
       "   'x-amz-request-id': 'CA0E553E8C20ECE8'},\n",
       "  'HTTPStatusCode': 204,\n",
       "  'HostId': 'ibmQ/5YmalJvz0DhWcN75l2Fgi5q9uC2w+IUMRvn/CyuCTQtFqzbKeaFlMgJwx/W2ZwgMRQV++g=',\n",
       "  'RequestId': 'CA0E553E8C20ECE8',\n",
       "  'RetryAttempts': 0}}"
      ]
     },
     "execution_count": 34,
     "metadata": {},
     "output_type": "execute_result"
    }
   ],
   "source": [
    "first_object.delete()"
   ]
  },
  {
   "cell_type": "code",
   "execution_count": 37,
   "metadata": {
    "collapsed": true
   },
   "outputs": [],
   "source": [
    "s3_resource.Object(bucketname, filename).upload_file(filename)"
   ]
  },
  {
   "cell_type": "code",
   "execution_count": null,
   "metadata": {
    "collapsed": true
   },
   "outputs": [],
   "source": [
    "s3_resource.Object(bucketname, filename)"
   ]
  },
  {
   "cell_type": "code",
   "execution_count": 39,
   "metadata": {
    "collapsed": false
   },
   "outputs": [
    {
     "name": "stdout",
     "output_type": "stream",
     "text": [
      "s3.ObjectVersion(bucket_name='wmorgan85-iot-dashboard', object_key='README', id='null')\n",
      "s3.ObjectVersion(bucket_name='wmorgan85-iot-dashboard', object_key='index.html', id='null')\n",
      "s3.ObjectVersion(bucket_name='wmorgan85-iot-dashboard', object_key='moviedata.json', id='null')\n",
      "s3.ObjectVersion(bucket_name='wmorgan85-iot-dashboard', object_key='refresh.js', id='null')\n",
      "s3.ObjectVersion(bucket_name='wmorgan85-iot-dashboard', object_key='requirements.txt', id='null')\n"
     ]
    }
   ],
   "source": [
    "for item in first_bucket.object_versions.all():\n",
    "    print(item)"
   ]
  },
  {
   "cell_type": "code",
   "execution_count": null,
   "metadata": {
    "collapsed": true
   },
   "outputs": [],
   "source": [
    "objdict = {\n",
    "    \"Objects\": [\n",
    "        {\n",
    "            \"Key\": \"requirements.txt\",\n",
    "            \"id\": \"null\"\n",
    "        },\n",
    "    ]\n",
    "}"
   ]
  },
  {
   "cell_type": "code",
   "execution_count": null,
   "metadata": {
    "collapsed": true
   },
   "outputs": [],
   "source": [
    "def delete_all_objects(bucket_name):\n",
    "    res = []\n",
    "    bucket=s3_resource.Bucket(bucket_name)\n",
    "    for obj_version in bucket.object_versions.all():\n",
    "        res.append({'Key': obj_version.object_key,\n",
    "                    'VersionId': obj_version.id})\n",
    "    print(res)\n",
    "    bucket.delete_objects(Delete={'Objects': res})\n"
   ]
  }
 ],
 "metadata": {
  "kernelspec": {
   "display_name": "Python 3",
   "language": "python",
   "name": "python3"
  },
  "language_info": {
   "codemirror_mode": {
    "name": "ipython",
    "version": 3
   },
   "file_extension": ".py",
   "mimetype": "text/x-python",
   "name": "python",
   "nbconvert_exporter": "python",
   "pygments_lexer": "ipython3",
   "version": "3.6.8"
  }
 },
 "nbformat": 4,
 "nbformat_minor": 2
}
